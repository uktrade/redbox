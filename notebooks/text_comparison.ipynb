{
 "cells": [
  {
   "cell_type": "markdown",
   "id": "0",
   "metadata": {},
   "source": [
    "# Link Insertion Investigation"
   ]
  },
  {
   "cell_type": "markdown",
   "id": "1",
   "metadata": {},
   "source": [
    "It has been noted that in situations when `text_in_answer` for a citation does not match with `text`  from the LLM response, sources will appear but the citation numbering will not be shown in the response."
   ]
  },
  {
   "cell_type": "markdown",
   "id": "2",
   "metadata": {},
   "source": [
    "**This is the section of code we're trying to replace:**\n",
    "```python\n",
    "# Add footnotes to messages\n",
    "for message in messages:\n",
    "    footnote_counter = 1\n",
    "    for display, href, cit_id, text_in_answer in message.unique_citation_uris():  # noqa: B007\n",
    "        if text_in_answer:\n",
    "            message.text = message.text.replace(\n",
    "                text_in_answer,\n",
    "                f'{text_in_answer}<a class=\"rb-footnote-link\" href=\"/citations/{message.id}/#{cit_id}\">{footnote_counter}</a>',  # noqa: E501\n",
    "            )\n",
    "            footnote_counter = footnote_counter + 1\n",
    "```"
   ]
  },
  {
   "cell_type": "markdown",
   "id": "3",
   "metadata": {},
   "source": [
    "The current method is encapsulated in `simple_insert_link` below. The proposed solution is as below:\n",
    "\n",
    "- Convert both `message.text` and `text_in_answer` from markdown text to plain text.\n",
    "\n",
    "- Search for the plain text_in_answer in the plain message.text and track the position of the text.\n",
    "\n",
    "- If/when found, replace the text in message.text to include the link.\n",
    "\n",
    "This will allow for markdown formatting to be maintained\n",
    "\n",
    "This is detailed in the `insert_link` function below."
   ]
  },
  {
   "cell_type": "code",
   "execution_count": null,
   "id": "4",
   "metadata": {},
   "outputs": [],
   "source": [
    "import markdown\n",
    "from bs4 import BeautifulSoup\n",
    "import re"
   ]
  },
  {
   "cell_type": "code",
   "execution_count": null,
   "id": "5",
   "metadata": {},
   "outputs": [],
   "source": [
    "def simple_insert_link(md_text: str, sub_string: str, message_id: str, cit_id: str, footnote_counter: int):\n",
    "    md_text=md_text.replace(sub_string,\n",
    "                    f'{sub_string}<a class=\"rb-footnote-link\" href=\"/citations/{message_id}/#{cit_id}\">{footnote_counter}</a>')\n",
    "    return md_text"
   ]
  },
  {
   "cell_type": "code",
   "execution_count": null,
   "id": "6",
   "metadata": {},
   "outputs": [],
   "source": [
    "def get_plain_text(md_text: str)-> str:\n",
    "    \"\"\"\n",
    "    Converts a Markdown-formatted string to plain text by rendering it as HTML and stripping all HTML tags. \n",
    "    It also replaces '\\n' with `\\\\n`\n",
    "\n",
    "    Args:\n",
    "        md_text (str): The Markdown content to be stripped.\n",
    "\n",
    "    Returns:\n",
    "        The plain text representation of the Markdown input.\n",
    "    \"\"\"\n",
    "    md_text = md_text.replace('\\\\n','\\n')\n",
    "    html = markdown.markdown(md_text)\n",
    "    soup = BeautifulSoup(html, 'html.parser')\n",
    "    return soup.get_text()"
   ]
  },
  {
   "cell_type": "code",
   "execution_count": null,
   "id": "7",
   "metadata": {},
   "outputs": [],
   "source": [
    "def insert_link(md_text: str, sub_string: str, message_id: str, cit_id: str, footnote_counter: int)-> str:\n",
    "    \"\"\"\n",
    "    Searches for a plain-text substring within a Markdown-formatted string,\n",
    "    and if found, appends a Markdown link immediately after the matched content,\n",
    "    preserving original Markdown formatting.\n",
    "\n",
    "    Args:\n",
    "        md_text (str): The original Markdown text.\n",
    "        sub_string (str): The string to search for (text_in_answer).\n",
    "        message_id (str): The message ID\n",
    "        cit_id(str): The citation ID\n",
    "        footnote_counter(int): The footnote counter.\n",
    "\n",
    "    Returns:\n",
    "        The updated Markdown string with the link inserted if a match was found. If no match is found, returns the original Markdown unchanged.\n",
    "    \"\"\"\n",
    "    rendered_text=get_plain_text(md_text)\n",
    "    rendered_string=get_plain_text(sub_string)\n",
    "\n",
    "    match = re.search(re.escape(rendered_string), rendered_text)\n",
    "    if not match:\n",
    "        return md_text\n",
    "\n",
    "    for i in range(len(md_text)):\n",
    "        snippet = get_plain_text(md_text[i:])\n",
    "        if snippet.startswith(rendered_string):\n",
    "            end_idx=i\n",
    "            count = 0\n",
    "            while count<len(rendered_string) and end_idx<len(md_text):\n",
    "                temp = get_plain_text(md_text[i:end_idx])\n",
    "                count=len(temp)\n",
    "                end_idx +=1\n",
    "            main_text = md_text[:end_idx-1] + '<a class=\"rb-footnote-link\" href=\"/citations/{message_id}/#{cit_id}\">{footnote_counter}</a>' + md_text[end_idx:]\n",
    "            return main_text\n",
    "    return md_text"
   ]
  },
  {
   "cell_type": "markdown",
   "id": "8",
   "metadata": {},
   "source": [
    "A sample LLM Response in markdown format is shown below (`text_body`) alongside a sample citation text to search for (`search_text`).\n",
    "\n",
    "We will test both methods and time them to see what the time impact is."
   ]
  },
  {
   "cell_type": "code",
   "execution_count": null,
   "id": "9",
   "metadata": {},
   "outputs": [],
   "source": [
    "# Sample LLM Response\n",
    "text_body = \"\"\"\n",
    "**UK Market Share in Japan**\\n\\nAccording to the Japan Trade and Investment Factsheet:\\n\\n- The UK's total market share in Japan was 1.8% in 2023, an increase of 0.3 percentage points from 2022.\\n- The UK market share in Japan for goods was 1.1% in 2023, an increase of 0.1 percentage points from 2022. \\n- The UK market share in Japan for services was 4.3% in 2023, an increase of 0.4 percentage points from 2022.\\n\\nThe factsheet provides a table showing the UK's market share in Japan from 2014 to 2023 for total trade, goods, and services.\\n\\n**General Information on Japan's Economy**\\n\\nFrom Wikipedia:\\n\\n- Japan has the 4th largest economy in the world by nominal GDP and the 5th largest by purchasing power parity (PPP).\\n- It is a highly developed mixed economy and founding member of the G7.  \\n- Japan has a highly service-dominated economy, contributing around 70% of GDP.\\n- The industrial sector is led by the automobile industry, which is the second largest in the world. Major companies include Toyota, Honda, Sony, Hitachi.\\n- Japan underwent rapid economic growth and industrialization after World War II, becoming the world's 2nd largest economy by 1968 until surpassed by China in 2010.\\n- However, economic stagnation and deflation marked the 'Lost Decades' from the 1990s to 2010s after the collapse of an asset price bubble.\\n\\n**Recent UK-Japan Trade Negotiations**\\n\\nBased on information from GOV.UK:\\n\\n- In March 2025, the UK and Japan held the second UK-Japan Strategic Economic Policy and Trade Dialogue to strengthen economic ties and cooperation in areas like supply chain resilience, critical technologies, clean energy, and advanced manufacturing.\\n\\n- In March 2023, the first Japan-UK Economic 2+2 Ministers' Meeting was held to discuss economic security, free trade, energy security, and engagement with the Global South.\\n\\n- In December 2022, the UK joined the Comprehensive and Progressive Trans-Pacific Partnership (CPTPP), which Japan is a member of.\\n\\n- In June 2020, the UK and Japan started negotiating the UK-Japan Comprehensive Economic Partnership Agreement (CEPA), which entered into force by the end of 2020 after the UK's exit from the EU.\n",
    "\"\"\""
   ]
  },
  {
   "cell_type": "code",
   "execution_count": null,
   "id": "10",
   "metadata": {},
   "outputs": [],
   "source": [
    "# Sample text_in_answer\n",
    "search_text=\"\"\"\n",
    "From Wikipedia:\\n\\n- Japan has the 4th largest economy in the world by nominal GDP and the 5th largest by purchasing power parity (PPP).\n",
    "\"\"\""
   ]
  },
  {
   "cell_type": "markdown",
   "id": "11",
   "metadata": {},
   "source": [
    "**Testing the Current Method**"
   ]
  },
  {
   "cell_type": "code",
   "execution_count": null,
   "id": "12",
   "metadata": {},
   "outputs": [],
   "source": [
    "from pprint import pprint\n",
    "\n",
    "pprint(insert_link(text_body, search_text, 'id_123', 'id_456', 5))"
   ]
  },
  {
   "cell_type": "markdown",
   "id": "13",
   "metadata": {},
   "source": [
    "**Testing the Proposed Method**"
   ]
  },
  {
   "cell_type": "code",
   "execution_count": null,
   "id": "14",
   "metadata": {},
   "outputs": [],
   "source": [
    "pprint(simple_insert_link(text_body, search_text, 'id_123', 'id_456', 5))"
   ]
  },
  {
   "cell_type": "markdown",
   "id": "15",
   "metadata": {},
   "source": [
    "**Calculating the Time Difference**"
   ]
  },
  {
   "cell_type": "code",
   "execution_count": null,
   "id": "16",
   "metadata": {},
   "outputs": [],
   "source": [
    "%%timeit -o\n",
    "test1=insert_link(text_body, search_text, 'id_123', 'id_456', 5)"
   ]
  },
  {
   "cell_type": "code",
   "execution_count": null,
   "id": "17",
   "metadata": {},
   "outputs": [],
   "source": [
    "time1=_.average"
   ]
  },
  {
   "cell_type": "code",
   "execution_count": null,
   "id": "18",
   "metadata": {},
   "outputs": [],
   "source": [
    "%%timeit -o\n",
    "test2=simple_insert_link(text_body, search_text, 'id_123', 'id_456', 5)"
   ]
  },
  {
   "cell_type": "code",
   "execution_count": null,
   "id": "19",
   "metadata": {},
   "outputs": [],
   "source": [
    "time2=_.average"
   ]
  },
  {
   "cell_type": "code",
   "execution_count": null,
   "id": "20",
   "metadata": {},
   "outputs": [],
   "source": [
    "difference = time1/time2"
   ]
  },
  {
   "cell_type": "code",
   "execution_count": null,
   "id": "21",
   "metadata": {},
   "outputs": [],
   "source": [
    "print(f'The proposed solution takes {round(difference,2):,.2f} times as long as the current solution')"
   ]
  }
 ],
 "metadata": {
  "kernelspec": {
   "display_name": ".venv",
   "language": "python",
   "name": "python3"
  },
  "language_info": {
   "codemirror_mode": {
    "name": "ipython",
    "version": 3
   },
   "file_extension": ".py",
   "mimetype": "text/x-python",
   "name": "python",
   "nbconvert_exporter": "python",
   "pygments_lexer": "ipython3",
   "version": "3.12.9"
  }
 },
 "nbformat": 4,
 "nbformat_minor": 5
}
