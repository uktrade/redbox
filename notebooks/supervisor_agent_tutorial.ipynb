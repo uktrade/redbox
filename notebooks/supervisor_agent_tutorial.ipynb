{
 "cells": [
  {
   "cell_type": "markdown",
   "metadata": {},
   "source": [
    "## Supervisor agent (tutorial)\n",
    "\n"
   ]
  },
  {
   "cell_type": "markdown",
   "metadata": {},
   "source": [
    "This notebook uses supervisor agent implementation from Langgraph. It calls either Researcher (to return web search results) or Coder (to perform calculations)"
   ]
  },
  {
   "cell_type": "code",
   "execution_count": null,
   "metadata": {},
   "outputs": [],
   "source": [
    "from typing import Literal\n",
    "from typing_extensions import TypedDict\n",
    "\n",
    "#from langchain_anthropic import ChatAnthropic\n",
    "from langgraph.graph import MessagesState, END\n",
    "from langgraph.types import Command\n",
    "\n",
    "from langchain.chat_models import init_chat_model\n",
    "\n",
    "\n",
    "#members = [\"researcher\", \"coder\"]\n",
    "members = [\"researcher\", \"coder\"]\n",
    "# Our team supervisor is an LLM node. It just picks the next agent to process\n",
    "# and decides when the work is completed\n",
    "options = members + [\"FINISH\"]"
   ]
  },
  {
   "cell_type": "code",
   "execution_count": 2,
   "metadata": {},
   "outputs": [],
   "source": [
    "system_prompt = \"\"\"You are a supervisor agent responsible for coordinating between a researcher agent and a coder agent. \n",
    "Given the following user request, respond with the agent to act next. Each agent will perform a task and respond with their results and status. When finished, respond with FINISH.\n",
    "\n",
    "You should follow these steps:\n",
    "\n",
    "1. Analyze user queries as well as conversation history and determine if agent(s) should handle the request\n",
    "2. Write out your reasoning and analysis of how to route this request and determine which agent(s) should handle the request\n",
    "3. Route requests to the appropriate agent(s)\n",
    "4. Evaluate whether previous message fully answers the user query, without explicitely providing instructions to find the results.\n",
    "5. If the user query was fully answered without explicitely providing instructions to find the results:\n",
    "     return: FINISH\n",
    "6. If user query was not fully answered, repeat previous steps. \n",
    "\n",
    "Guidelines for request handling:\n",
    "\n",
    "1. if the request requires web search:\n",
    "   - return: researcher \n",
    "\n",
    "2. if the request requires performing mathematical operations:\n",
    "   - return: coder\n",
    "\n",
    "3. if the request has a complete answer in the conversation history without explicitely providing instructions to find the results:\n",
    "   - return: FINISH\n",
    "\n",
    "\"\"\""
   ]
  },
  {
   "cell_type": "code",
   "execution_count": null,
   "metadata": {},
   "outputs": [],
   "source": [
    "\n",
    "llm=  init_chat_model(\n",
    "        model=\"anthropic.claude-3-sonnet-20240229-v1:0\",\n",
    "        model_provider=\"bedrock\"\n",
    "    )\n",
    "\n"
   ]
  },
  {
   "cell_type": "code",
   "execution_count": null,
   "metadata": {},
   "outputs": [],
   "source": [
    "class Router(TypedDict):\n",
    "    \"\"\"Worker to route to next. If no workers needed, route to FINISH.\"\"\"\n",
    "\n",
    "    next: Literal[*options]\n",
    "\n",
    "\n",
    "\n",
    "\n",
    "\n",
    "class State(MessagesState):\n",
    "    next: str\n",
    "\n",
    "\n",
    "def supervisor_node(state: State) -> Command[Literal[*members, \"__end__\"]]:\n",
    "    messages = [\n",
    "        {\"role\": \"system\", \"content\": system_prompt},\n",
    "    ] + state[\"messages\"]\n",
    "    response = llm.with_structured_output(Router).invoke(messages) #llm_openai give better response\n",
    "    goto = response[\"next\"]\n",
    "    if goto == \"FINISH\":\n",
    "        goto = END\n",
    "\n",
    "    return Command(goto=goto, update={\"next\": goto})"
   ]
  },
  {
   "cell_type": "markdown",
   "metadata": {},
   "source": [
    "FINISH: Returns the final response to the user"
   ]
  },
  {
   "cell_type": "code",
   "execution_count": 5,
   "metadata": {},
   "outputs": [],
   "source": [
    "def add(a: float, b: float) -> float:\n",
    "    \"\"\"Add two numbers.\"\"\"\n",
    "    return a + b\n",
    "\n",
    "def multiply(a: float, b: float) -> float:\n",
    "    \"\"\"Multiply two numbers.\"\"\"\n",
    "    return a * b\n",
    "\n",
    "def web_search(query: str) -> str:\n",
    "    \"\"\"Search the web for information.\"\"\"\n",
    "    return (\n",
    "        \"Here are the different headcounts for each of the FAANG companies in 2024:\\n\"\n",
    "        \"1. **Facebook (Meta)**: 67,317 employees.\\n\"\n",
    "        \"2. **Apple**: 164,000 employees.\\n\"\n",
    "        \"3. **Amazon**: 1,551,000 employees.\\n\"\n",
    "        \"4. **Netflix**: 14,000 employees.\\n\"\n",
    "        \"5. **Google (Alphabet)**: 181,269 employees.\"\n",
    "    )"
   ]
  },
  {
   "cell_type": "code",
   "execution_count": 6,
   "metadata": {},
   "outputs": [],
   "source": [
    "RESEARCH_PROMPT = \"\"\"You are a researcher. Your task is to search the web using the available tools.\n",
    "<guidelines>\n",
    "Only return the results from the web search\n",
    "Do not alter or summarise the responses returned by the web search\n",
    "Do not perform mathematical operations\n",
    "</guidelines>\n",
    "\"\"\""
   ]
  },
  {
   "cell_type": "markdown",
   "metadata": {},
   "source": [
    "RESEARCH_PROMPT = \"\"\"You are a researcher. Your task is to search the web using the available tools.\n",
    "\n",
    "Guidelines for request handling:\n",
    "\n",
    "1. Do not perform mathematical operations\n",
    "\n",
    "\"\"\""
   ]
  },
  {
   "cell_type": "code",
   "execution_count": 7,
   "metadata": {},
   "outputs": [],
   "source": [
    "CODE_PROMPT = \"\"\"You are a coder. Your task is to perform mathematical operations using the available tools.\n",
    "\"\"\""
   ]
  },
  {
   "cell_type": "code",
   "execution_count": 8,
   "metadata": {},
   "outputs": [],
   "source": [
    "from langchain_core.messages import HumanMessage\n",
    "from langgraph.graph import StateGraph, START, END\n",
    "from langgraph.prebuilt import create_react_agent\n",
    "\n",
    "\n",
    "research_agent = create_react_agent(\n",
    "    llm, tools=[web_search], prompt=RESEARCH_PROMPT, name=\"researcher\"\n",
    ")\n",
    "\n",
    "\n",
    "def research_node(state: State) -> Command[Literal[\"supervisor\"]]:\n",
    "    result = research_agent.invoke(state)\n",
    "    return Command(\n",
    "        update={\n",
    "            \"messages\": [\n",
    "                HumanMessage(content=result[\"messages\"][-1].content, name=\"researcher\")\n",
    "            ]\n",
    "        },\n",
    "        goto=\"supervisor\",\n",
    "    )\n",
    "\n",
    "\n",
    "# NOTE: THIS PERFORMS ARBITRARY CODE EXECUTION, WHICH CAN BE UNSAFE WHEN NOT SANDBOXED\n",
    "code_agent = create_react_agent(llm, tools=[add, multiply], prompt=CODE_PROMPT, name = \"coder\")\n",
    "\n",
    "\n",
    "def code_node(state: State) -> Command[Literal[\"supervisor\"]]:\n",
    "    result = code_agent.invoke(state)\n",
    "    return Command(\n",
    "        update={\n",
    "            \"messages\": [\n",
    "                HumanMessage(content=result[\"messages\"][-1].content, name=\"coder\")\n",
    "            ]\n",
    "        },\n",
    "        goto=\"supervisor\",\n",
    "    )\n",
    "\n",
    "\n",
    "builder = StateGraph(State)\n",
    "builder.add_edge(START, \"supervisor\")\n",
    "builder.add_node(\"supervisor\", supervisor_node)\n",
    "builder.add_node(\"researcher\", research_node)\n",
    "builder.add_node(\"coder\", code_node)\n",
    "graph = builder.compile()"
   ]
  },
  {
   "cell_type": "code",
   "execution_count": 9,
   "metadata": {},
   "outputs": [
    {
     "data": {
      "image/png": "[encoded data removed]",
      "text/plain": [
       "<IPython.core.display.Image object>"
      ]
     },
     "metadata": {},
     "output_type": "display_data"
    }
   ],
   "source": [
    "from IPython.display import display, Image\n",
    "\n",
    "display(Image(graph.get_graph().draw_mermaid_png()))"
   ]
  },
  {
   "cell_type": "code",
   "execution_count": 10,
   "metadata": {},
   "outputs": [
    {
     "name": "stdout",
     "output_type": "stream",
     "text": [
      "((), {'supervisor': {'next': 'researcher'}})\n",
      "----\n",
      "(('researcher:cc7b4f06-ece1-9fbd-70fc-f8a29ea80942',), {'agent': {'messages': [AIMessage(content='', additional_kwargs={'tool_calls': [{'id': 'call_YeNRo805CadBI500zUlOfL8N', 'function': {'arguments': '{\"query\":\"FAANG companies combined headcount 2024\"}', 'name': 'web_search'}, 'type': 'function'}], 'refusal': None}, response_metadata={'token_usage': {'completion_tokens': 23, 'prompt_tokens': 113, 'total_tokens': 136, 'completion_tokens_details': {'accepted_prediction_tokens': 0, 'audio_tokens': 0, 'reasoning_tokens': 0, 'rejected_prediction_tokens': 0}, 'prompt_tokens_details': {'audio_tokens': 0, 'cached_tokens': 0}}, 'model_name': 'gpt-4o-mini-2024-07-18', 'system_fingerprint': 'fp_86d0290411', 'id': 'chatcmpl-BH8R5UtE0FbHVQN3hb9QmU0sA0bbM', 'finish_reason': 'tool_calls', 'logprobs': None}, name='researcher', id='run-d9d100cb-7fce-4a1d-ad16-283f6e7b46a7-0', tool_calls=[{'name': 'web_search', 'args': {'query': 'FAANG companies combined headcount 2024'}, 'id': 'call_YeNRo805CadBI500zUlOfL8N', 'type': 'tool_call'}], usage_metadata={'input_tokens': 113, 'output_tokens': 23, 'total_tokens': 136, 'input_token_details': {'audio': 0, 'cache_read': 0}, 'output_token_details': {'audio': 0, 'reasoning': 0}})]}})\n",
      "----\n",
      "(('researcher:cc7b4f06-ece1-9fbd-70fc-f8a29ea80942',), {'tools': {'messages': [ToolMessage(content='Here are the different headcounts for each of the FAANG companies in 2024:\\n1. **Facebook (Meta)**: 67,317 employees.\\n2. **Apple**: 164,000 employees.\\n3. **Amazon**: 1,551,000 employees.\\n4. **Netflix**: 14,000 employees.\\n5. **Google (Alphabet)**: 181,269 employees.', name='web_search', id='6d59d2a7-cbd6-492d-b11b-91a0f3254b5e', tool_call_id='call_YeNRo805CadBI500zUlOfL8N')]}})\n",
      "----\n",
      "(('researcher:cc7b4f06-ece1-9fbd-70fc-f8a29ea80942',), {'agent': {'messages': [AIMessage(content='The combined headcount of the FAANG companies in 2024 is as follows:\\n\\n1. **Facebook (Meta)**: 67,317 employees\\n2. **Apple**: 164,000 employees\\n3. **Amazon**: 1,551,000 employees\\n4. **Netflix**: 14,000 employees\\n5. **Google (Alphabet)**: 181,269 employees\\n\\nTo find the total, you would sum these numbers.', additional_kwargs={'refusal': None}, response_metadata={'token_usage': {'completion_tokens': 96, 'prompt_tokens': 230, 'total_tokens': 326, 'completion_tokens_details': {'accepted_prediction_tokens': 0, 'audio_tokens': 0, 'reasoning_tokens': 0, 'rejected_prediction_tokens': 0}, 'prompt_tokens_details': {'audio_tokens': 0, 'cached_tokens': 0}}, 'model_name': 'gpt-4o-mini-2024-07-18', 'system_fingerprint': 'fp_86d0290411', 'id': 'chatcmpl-BH8R5LYnqcJP8j2Knz8RvtIo8G3Hf', 'finish_reason': 'stop', 'logprobs': None}, name='researcher', id='run-8b683060-c7d1-4e91-a901-a0ab880b894c-0', usage_metadata={'input_tokens': 230, 'output_tokens': 96, 'total_tokens': 326, 'input_token_details': {'audio': 0, 'cache_read': 0}, 'output_token_details': {'audio': 0, 'reasoning': 0}})]}})\n",
      "----\n",
      "((), {'researcher': {'messages': [HumanMessage(content='The combined headcount of the FAANG companies in 2024 is as follows:\\n\\n1. **Facebook (Meta)**: 67,317 employees\\n2. **Apple**: 164,000 employees\\n3. **Amazon**: 1,551,000 employees\\n4. **Netflix**: 14,000 employees\\n5. **Google (Alphabet)**: 181,269 employees\\n\\nTo find the total, you would sum these numbers.', additional_kwargs={}, response_metadata={}, name='researcher')]}})\n",
      "----\n",
      "((), {'supervisor': {'next': 'coder'}})\n",
      "----\n",
      "(('coder:5ce80b43-55c4-fd5f-d6ee-6ff3c08b7264',), {'agent': {'messages': [AIMessage(content='', additional_kwargs={'tool_calls': [{'id': 'call_MyS2WseHzuJdmAeQZDXjZxrW', 'function': {'arguments': '{\"a\": 67317, \"b\": 164000}', 'name': 'add'}, 'type': 'function'}, {'id': 'call_vBqiWfQU6IKsAmwy9FQvhwHH', 'function': {'arguments': '{\"a\": 1551000, \"b\": 14000}', 'name': 'add'}, 'type': 'function'}, {'id': 'call_LgDpJDvnLghajDOgISrY2Hqx', 'function': {'arguments': '{\"a\": 181269, \"b\": 0}', 'name': 'add'}, 'type': 'function'}], 'refusal': None}, response_metadata={'token_usage': {'completion_tokens': 74, 'prompt_tokens': 199, 'total_tokens': 273, 'completion_tokens_details': {'accepted_prediction_tokens': 0, 'audio_tokens': 0, 'reasoning_tokens': 0, 'rejected_prediction_tokens': 0}, 'prompt_tokens_details': {'audio_tokens': 0, 'cached_tokens': 0}}, 'model_name': 'gpt-4o-mini-2024-07-18', 'system_fingerprint': 'fp_b376dfbbd5', 'id': 'chatcmpl-BH8R99J2r2jz3AQKcHn35946wF8aL', 'finish_reason': 'tool_calls', 'logprobs': None}, name='coder', id='run-9712f326-f627-4148-bfd0-38d02b292d9f-0', tool_calls=[{'name': 'add', 'args': {'a': 67317, 'b': 164000}, 'id': 'call_MyS2WseHzuJdmAeQZDXjZxrW', 'type': 'tool_call'}, {'name': 'add', 'args': {'a': 1551000, 'b': 14000}, 'id': 'call_vBqiWfQU6IKsAmwy9FQvhwHH', 'type': 'tool_call'}, {'name': 'add', 'args': {'a': 181269, 'b': 0}, 'id': 'call_LgDpJDvnLghajDOgISrY2Hqx', 'type': 'tool_call'}], usage_metadata={'input_tokens': 199, 'output_tokens': 74, 'total_tokens': 273, 'input_token_details': {'audio': 0, 'cache_read': 0}, 'output_token_details': {'audio': 0, 'reasoning': 0}})]}})\n",
      "----\n",
      "(('coder:5ce80b43-55c4-fd5f-d6ee-6ff3c08b7264',), {'tools': {'messages': [ToolMessage(content='231317.0', name='add', id='53f4d195-27c3-4b13-991c-e2920310a703', tool_call_id='call_MyS2WseHzuJdmAeQZDXjZxrW'), ToolMessage(content='1565000.0', name='add', id='2958bceb-a577-4e5f-9995-8115599514c9', tool_call_id='call_vBqiWfQU6IKsAmwy9FQvhwHH'), ToolMessage(content='181269.0', name='add', id='daab13a7-213a-4f04-9f78-01fb85a0dc4b', tool_call_id='call_LgDpJDvnLghajDOgISrY2Hqx')]}})\n",
      "----\n",
      "(('coder:5ce80b43-55c4-fd5f-d6ee-6ff3c08b7264',), {'agent': {'messages': [AIMessage(content='', additional_kwargs={'tool_calls': [{'id': 'call_TkPhQGKggcD0LYmfIpc0yk1Y', 'function': {'arguments': '{\"a\":231317,\"b\":1565000}', 'name': 'add'}, 'type': 'function'}], 'refusal': None}, response_metadata={'token_usage': {'completion_tokens': 21, 'prompt_tokens': 303, 'total_tokens': 324, 'completion_tokens_details': {'accepted_prediction_tokens': 0, 'audio_tokens': 0, 'reasoning_tokens': 0, 'rejected_prediction_tokens': 0}, 'prompt_tokens_details': {'audio_tokens': 0, 'cached_tokens': 0}}, 'model_name': 'gpt-4o-mini-2024-07-18', 'system_fingerprint': 'fp_b376dfbbd5', 'id': 'chatcmpl-BH8RBPUWBYddUMlVxUj8pHI4rRtzj', 'finish_reason': 'tool_calls', 'logprobs': None}, name='coder', id='run-39332f0c-33ff-40af-b152-23704a86c3e8-0', tool_calls=[{'name': 'add', 'args': {'a': 231317, 'b': 1565000}, 'id': 'call_TkPhQGKggcD0LYmfIpc0yk1Y', 'type': 'tool_call'}], usage_metadata={'input_tokens': 303, 'output_tokens': 21, 'total_tokens': 324, 'input_token_details': {'audio': 0, 'cache_read': 0}, 'output_token_details': {'audio': 0, 'reasoning': 0}})]}})\n",
      "----\n",
      "(('coder:5ce80b43-55c4-fd5f-d6ee-6ff3c08b7264',), {'tools': {'messages': [ToolMessage(content='1796317.0', name='add', id='06819790-1d93-4727-aa9c-e428e77cdcb6', tool_call_id='call_TkPhQGKggcD0LYmfIpc0yk1Y')]}})\n",
      "----\n",
      "(('coder:5ce80b43-55c4-fd5f-d6ee-6ff3c08b7264',), {'agent': {'messages': [AIMessage(content='The combined headcount of the FAANG companies in 2024 is 1,796,317 employees.', additional_kwargs={'refusal': None}, response_metadata={'token_usage': {'completion_tokens': 24, 'prompt_tokens': 337, 'total_tokens': 361, 'completion_tokens_details': {'accepted_prediction_tokens': 0, 'audio_tokens': 0, 'reasoning_tokens': 0, 'rejected_prediction_tokens': 0}, 'prompt_tokens_details': {'audio_tokens': 0, 'cached_tokens': 0}}, 'model_name': 'gpt-4o-mini-2024-07-18', 'system_fingerprint': 'fp_b376dfbbd5', 'id': 'chatcmpl-BH8RBcmPXqiUXlywoKMvMjizHELjg', 'finish_reason': 'stop', 'logprobs': None}, name='coder', id='run-75aff6b9-1fc3-4a53-8d19-da66c14eb9e2-0', usage_metadata={'input_tokens': 337, 'output_tokens': 24, 'total_tokens': 361, 'input_token_details': {'audio': 0, 'cache_read': 0}, 'output_token_details': {'audio': 0, 'reasoning': 0}})]}})\n",
      "----\n",
      "((), {'coder': {'messages': [HumanMessage(content='The combined headcount of the FAANG companies in 2024 is 1,796,317 employees.', additional_kwargs={}, response_metadata={}, name='coder')]}})\n",
      "----\n",
      "((), {'supervisor': {'next': '__end__'}})\n",
      "----\n"
     ]
    }
   ],
   "source": [
    "for s in graph.stream(\n",
    "    {\"messages\": [(\"user\", \"what's the combined headcount of the FAANG companies in 2024?\")]}, subgraphs=True\n",
    "):\n",
    "    print(s)\n",
    "    print(\"----\")"
   ]
  }
 ],
 "metadata": {
  "kernelspec": {
   "display_name": ".venv",
   "language": "python",
   "name": "python3"
  },
  "language_info": {
   "codemirror_mode": {
    "name": "ipython",
    "version": 3
   },
   "file_extension": ".py",
   "mimetype": "text/x-python",
   "name": "python",
   "nbconvert_exporter": "python",
   "pygments_lexer": "ipython3",
   "version": "3.12.7"
  }
 },
 "nbformat": 4,
 "nbformat_minor": 2
}
