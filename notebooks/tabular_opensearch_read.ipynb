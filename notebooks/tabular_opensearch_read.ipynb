{
 "cells": [
  {
   "cell_type": "markdown",
   "metadata": {},
   "source": [
    "# Read data from Opensearch"
   ]
  },
  {
   "cell_type": "code",
   "execution_count": null,
   "metadata": {},
   "outputs": [],
   "source": [
    "%load_ext dotenv\n",
    "%dotenv ../.env"
   ]
  },
  {
   "cell_type": "code",
   "execution_count": null,
   "metadata": {},
   "outputs": [],
   "source": [
    "\n",
    "from json import load\n",
    "from opensearchpy import OpenSearch,  RequestsHttpConnection, client\n",
    "import os\n",
    "from dotenv import load_dotenv\n",
    "\n",
    "load_dotenv()\n",
    "password = os.environ.get(\"OPENSEARCH_INITIAL_ADMIN_PASSWORD\")\n",
    "\n",
    "client = OpenSearch(\n",
    "            hosts=[{\"host\": \"localhost\", \"port\": \"9200\"}],\n",
    "            http_auth=(\"admin\", password),\n",
    "            use_ssl=False, #to run locally, changed from True to False\n",
    "            connection_class=RequestsHttpConnection,\n",
    "            retry_on_timeout=True\n",
    "        )\n",
    "\n",
    "query = {\n",
    "    \"size\": 6, # Update this number X as required. It should produce the last X created entries\n",
    "    \"track_total_hits\": True,\n",
    "    \"query\" : {\n",
    "        \"match_all\" : {}\n",
    "    },\n",
    "    \"sort\": [\n",
    "        {\"metadata.created_datetime\": {\"order\": \"desc\"}}\n",
    "    ]\n",
    "}\n",
    "\n",
    "#query 1000 records from database\n",
    "\n",
    "response = client.search(index='redbox-data-integration-chunk-current', body=query)"
   ]
  },
  {
   "cell_type": "code",
   "execution_count": null,
   "metadata": {},
   "outputs": [],
   "source": [
    "for hit in response['hits']['hits']:\n",
    "    print(f\"Document ID: {hit['_id']}\")\n",
    "    \n",
    "    metadata = hit['_source'].get('metadata')\n",
    "\n",
    "    if 'created_datetime' in metadata:\n",
    "        print(f\"Created on: {metadata['created_datetime']}\")\n",
    "    if 'name' in metadata:\n",
    "        print(f\"Name: {metadata['name']}\")\n",
    "    # if 'description' in metadata:\n",
    "    #     print(f\"Description: {metadata['description']}\")\n",
    "    if 'chunk_resolution' in metadata:\n",
    "        print(f\"Chunk Resolution: {metadata['chunk_resolution']}\")\n",
    "    print(f\"Content [First 200 characters]:\\n{hit['_source'][\"text\"][:200]}\")  # Print the first 200 characters\n",
    "    print(\"---\")"
   ]
  },
  {
   "cell_type": "markdown",
   "metadata": {},
   "source": [
    "## Read index and alias names from Opensearch"
   ]
  },
  {
   "cell_type": "code",
   "execution_count": null,
   "metadata": {},
   "outputs": [],
   "source": [
    "#Read index and alias names from database\n",
    "client.indices.get_alias(name = \"*\")"
   ]
  },
  {
   "cell_type": "markdown",
   "metadata": {},
   "source": [
    "# Delete Index"
   ]
  },
  {
   "cell_type": "code",
   "execution_count": null,
   "metadata": {},
   "outputs": [],
   "source": [
    "# client.indices.delete(\"redbox-data-integration-chunk\") #index"
   ]
  }
 ],
 "metadata": {
  "kernelspec": {
   "display_name": ".venv",
   "language": "python",
   "name": "python3"
  },
  "language_info": {
   "codemirror_mode": {
    "name": "ipython",
    "version": 3
   },
   "file_extension": ".py",
   "mimetype": "text/x-python",
   "name": "python",
   "nbconvert_exporter": "python",
   "pygments_lexer": "ipython3",
   "version": "3.12.9"
  }
 },
 "nbformat": 4,
 "nbformat_minor": 2
}
