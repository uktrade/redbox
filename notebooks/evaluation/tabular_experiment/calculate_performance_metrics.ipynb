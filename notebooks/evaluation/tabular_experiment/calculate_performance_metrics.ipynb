{
 "cells": [
  {
   "cell_type": "markdown",
   "id": "f11bbf9c",
   "metadata": {},
   "source": [
    "# Calculate execution accuracy metric"
   ]
  },
  {
   "cell_type": "markdown",
   "id": "51814755",
   "metadata": {},
   "source": [
    "In this notebook, we will calculate the accuracy of tabular agent by comparing its results (resulting from SQL query) against the ground truth results. \n",
    "In the evaluation dataset, the questions and evidence are supplied. The evidence represents the external knowledge supplied to the LLM which can be related to the knowledge about data schema, definitons of columns or specific values, definitions of acronyms or specific function names for mathematical calculations. We will calculate the execution accuracy without evidence, and with evidence. This will allow us to estimate the impact of external knowledge on tabular agent performance. Also we will calculate the execution accuracy with evidence excluding challenging questions. This will allow us to get a more representative performance metric on less challenging use cases or less complex user questions. For more information about the execution accuracy, please check the BIRD paper: https://arxiv.org/pdf/2305.03111"
   ]
  },
  {
   "cell_type": "markdown",
   "id": "54b3303c",
   "metadata": {},
   "source": [
    "The baseline performance derived from the original paper (above) depends on the chosen model. When the paper was released (2023), the execution accuracy achieved by GPT4 was 30% without evidence and 46% with evidence. Please note that this is the accuracy achieved by GPT4 in 2023 and that the baseline performance would be higher if the model has been re-trained post 2023. More recent models combined with data profiling techniques and other approaches have achieved higher accuracy (75% on Dev set). The performance leaderbord can be accessed here: https://bird-bench.github.io. Please note that the Dev set is a much larger dataset, containing multiple databases (including the Financial dataset used for evaluation here)."
   ]
  },
  {
   "cell_type": "code",
   "execution_count": 1,
   "id": "aae8ca14",
   "metadata": {},
   "outputs": [],
   "source": [
    "import json\n",
    "import numpy as np\n",
    "\n"
   ]
  },
  {
   "cell_type": "code",
   "execution_count": 2,
   "id": "b3453b7f",
   "metadata": {},
   "outputs": [],
   "source": [
    "def derive_accuracy(eval_data):\n",
    "    accuracy_with_evidence_list = []\n",
    "    accuracy_without_evidence_list = []\n",
    "    accuracy_with_evidence_notchallenging_list = []\n",
    "    for row in eval_data:\n",
    "        if row[\"evidence\"] != \"\":\n",
    "            accuracy_with_evidence_list.append(row[\"is_accurate_with_evidence\"])\n",
    "\n",
    "    for row in eval_data:\n",
    "        accuracy_without_evidence_list.append(row[\"is_accurate_without_evidence\"])\n",
    "    \n",
    "    for row in eval_data:\n",
    "        if row[\"evidence\"] != \"\" and row[\"difficulty\"] != \"challenging\":\n",
    "            accuracy_with_evidence_notchallenging_list.append(row[\"is_accurate_with_evidence\"])\n",
    "        \n",
    "    accuracy_without_evidence=sum(accuracy_without_evidence_list)/len(accuracy_without_evidence_list)\n",
    "    accuracy_with_evidence=sum(accuracy_with_evidence_list)/len(accuracy_with_evidence_list)\n",
    "    accuracy_with_evidence_notchallenging=sum(accuracy_with_evidence_notchallenging_list)/len(accuracy_with_evidence_notchallenging_list)\n",
    "\n",
    "    return accuracy_without_evidence,  accuracy_with_evidence, accuracy_with_evidence_notchallenging"
   ]
  },
  {
   "cell_type": "markdown",
   "id": "6280e0ae",
   "metadata": {},
   "source": [
    "## Evaluation results with Claude 3.7 without extended thinking"
   ]
  },
  {
   "cell_type": "code",
   "execution_count": 3,
   "id": "d9ccc952",
   "metadata": {},
   "outputs": [],
   "source": [
    "with open('../data_results/tabular/evaluation_results.json') as f:\n",
    "    eval_data = json.load(f)"
   ]
  },
  {
   "cell_type": "code",
   "execution_count": 4,
   "id": "6a354910",
   "metadata": {},
   "outputs": [],
   "source": [
    "accuracy_without_evidence,  accuracy_with_evidence, accuracy_with_evidence_notchallenging = derive_accuracy(eval_data)"
   ]
  },
  {
   "cell_type": "code",
   "execution_count": 5,
   "id": "94ca4dee",
   "metadata": {},
   "outputs": [
    {
     "name": "stdout",
     "output_type": "stream",
     "text": [
      "execution accuracy without evidence:  0.23333333333333334\n",
      "execution accuracy with evidence: 0.39285714285714285\n",
      "execution accuracy with evidence excluding challenging questions:  0.5\n"
     ]
    }
   ],
   "source": [
    "#accuracy when evidence (external knowledge) is NOT in the prompt \n",
    "print(\"execution accuracy without evidence: \",accuracy_without_evidence) \n",
    "#accuracy when evidence (external knowledge) is in the prompt \n",
    "print(\"execution accuracy with evidence:\",accuracy_with_evidence)\n",
    "#accuracy when evidence (external knowledge) is in the prompt excluding challenging questions\n",
    "print(\"execution accuracy with evidence excluding challenging questions: \",accuracy_with_evidence_notchallenging) \n"
   ]
  },
  {
   "cell_type": "markdown",
   "id": "0139aa60",
   "metadata": {},
   "source": [
    "## Evaluation results with Claude 3.7 WITH extended thinking"
   ]
  },
  {
   "cell_type": "code",
   "execution_count": 6,
   "id": "d1f37583",
   "metadata": {},
   "outputs": [],
   "source": [
    "with open('../data_results/tabular/evaluation_results_extended_thinking.json') as f:\n",
    "    eval_data = json.load(f)"
   ]
  },
  {
   "cell_type": "code",
   "execution_count": 7,
   "id": "776a3773",
   "metadata": {},
   "outputs": [],
   "source": [
    "accuracy_without_evidence,  accuracy_with_evidence, accuracy_with_evidence_notchallenging = derive_accuracy(eval_data)"
   ]
  },
  {
   "cell_type": "code",
   "execution_count": 8,
   "id": "1e94ced1",
   "metadata": {},
   "outputs": [
    {
     "name": "stdout",
     "output_type": "stream",
     "text": [
      "execution accuracy without evidence:  0.3\n",
      "execution accuracy with evidence: 0.32142857142857145\n",
      "execution accuracy with evidence excluding challenging questions:  0.4090909090909091\n"
     ]
    }
   ],
   "source": [
    "#accuracy when evidence (external knowledge) is NOT in the prompt \n",
    "print(\"execution accuracy without evidence: \",accuracy_without_evidence) \n",
    "#accuracy when evidence (external knowledge) is in the prompt \n",
    "print(\"execution accuracy with evidence:\",accuracy_with_evidence)\n",
    "#accuracy when evidence (external knowledge) is in the prompt excluding challenging questions\n",
    "print(\"execution accuracy with evidence excluding challenging questions: \",accuracy_with_evidence_notchallenging) "
   ]
  },
  {
   "cell_type": "markdown",
   "id": "d4ac31ea",
   "metadata": {},
   "source": [
    "We do not see any increase in accuracy with extended thinking. In fact, the performance is lower which is unexpected. "
   ]
  }
 ],
 "metadata": {
  "kernelspec": {
   "display_name": ".venv",
   "language": "python",
   "name": "python3"
  },
  "language_info": {
   "codemirror_mode": {
    "name": "ipython",
    "version": 3
   },
   "file_extension": ".py",
   "mimetype": "text/x-python",
   "name": "python",
   "nbconvert_exporter": "python",
   "pygments_lexer": "ipython3",
   "version": "3.12.7"
  }
 },
 "nbformat": 4,
 "nbformat_minor": 5
}
