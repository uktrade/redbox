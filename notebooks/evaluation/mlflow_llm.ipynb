{
 "cells": [
  {
   "cell_type": "code",
   "execution_count": null,
   "metadata": {},
   "outputs": [],
   "source": [
    "import mlflow\n",
    "import openai\n",
    "import os\n",
    "import pandas as pd\n",
    "\n",
    "assert \"OPENAI_API_KEY\" in os.environ, \"Please set the OPENAI_API_KEY environment variable.\"\n",
    "\n",
    "mlflow.set_tracking_uri(uri=\"http://127.0.0.1:5020\")\n",
    "\n",
    "mlflow.set_experiment(experiment_id=\"0\")\n",
    "\n",
    "system_prompt = \"The following is a conversation with an AI assistant.\" + \"The assistant is helpful and very friendly.\"\n",
    "\n",
    "mlflow.start_run()\n",
    "mlflow.log_param(\"system_prompt\", system_prompt)\n",
    "\n",
    "# Create a question answering model using prompt engineering\n",
    "# with OpenAI. Log the model to MLflow Tracking\n",
    "logged_model = mlflow.openai.log_model(\n",
    "    model=\"gpt-3.5-turbo\",\n",
    "    task=openai.ChatCompletion,\n",
    "    artifact_path=\"model\",\n",
    "    messages=[\n",
    "        {\"role\": \"system\", \"content\": system_prompt},\n",
    "        {\"role\": \"user\", \"content\": \"{question}\"},\n",
    "    ],\n",
    ")\n",
    "\n",
    "# Evaluate the model on some example questions\n",
    "questions = pd.DataFrame(\n",
    "    {\n",
    "        \"question\": [\n",
    "            \"How do you create a run with MLflow?\",\n",
    "            \"How do you log a model with MLflow?\",\n",
    "            \"What is the capital of France?\",\n",
    "        ]\n",
    "    }\n",
    ")\n",
    "mlflow.evaluate(\n",
    "    model=logged_model.model_uri,\n",
    "    model_type=\"question-answering\",\n",
    "    data=questions,\n",
    ")\n",
    "mlflow.end_run()"
   ]
  }
 ],
 "metadata": {
  "kernelspec": {
   "display_name": "Python 3",
   "language": "python",
   "name": "python3"
  },
  "language_info": {
   "codemirror_mode": {
    "name": "ipython",
    "version": 3
   },
   "file_extension": ".py",
   "mimetype": "text/x-python",
   "name": "python",
   "nbconvert_exporter": "python",
   "pygments_lexer": "ipython3",
   "version": "3.11.1"
  }
 },
 "nbformat": 4,
 "nbformat_minor": 2
}
