{
 "cells": [
  {
   "cell_type": "markdown",
   "metadata": {},
   "source": [
    "## Notebook for testing Redbox app"
   ]
  },
  {
   "cell_type": "code",
   "execution_count": null,
   "metadata": {},
   "outputs": [],
   "source": [
    "%load_ext dotenv\n",
    "%dotenv ../redbox/.env.local"
   ]
  },
  {
   "cell_type": "code",
   "execution_count": null,
   "metadata": {},
   "outputs": [],
   "source": [
    "from redbox.models.settings import Settings, get_settings\n",
    "from redbox.models.chain import ChatLLMBackend, ChainChatMessage\n",
    "from redbox.app import Redbox\n",
    "from redbox.models.chain import RedboxQuery, RedboxState, AgentEnum, AgentTask, MultiAgentPlan\n",
    "from uuid import uuid4\n",
    "from redbox.models.chain import AISettings\n",
    "\n",
    "def get_state(user_uuid, prompts, documents, ai_setting, permitted_s3_keys):\n",
    "    q = RedboxQuery(\n",
    "        question=f\"{prompts[-1]}\",\n",
    "        s3_keys=documents,\n",
    "        user_uuid=user_uuid,\n",
    "        chat_history=[ChainChatMessage(role=\"user\", text=s) for s in prompts[:-1]],\n",
    "        ai_settings=ai_setting,\n",
    "        permitted_s3_keys=permitted_s3_keys,\n",
    "    )\n",
    "\n",
    "    return RedboxState(\n",
    "        request=q,\n",
    "    )\n",
    "\n",
    "def run_app(app, state) -> RedboxState:\n",
    "    return app.graph.invoke(state)\n",
    "\n",
    "def run_use_case(document, question, app):\n",
    "    x = get_state(user_uuid=uuid4(), prompts=[question], documents=document, ai_setting=AISettings(chat_backend=ChatLLMBackend(name=\"anthropic.claude-3-7-sonnet-20250219-v1:0\", provider=\"bedrock\")), permitted_s3_keys=document)\n",
    "    res = run_app(app, x)\n",
    "    print('Final response:')\n",
    "    print(res['messages'])\n",
    "    return res\n",
    "\n",
    "env = Settings()\n",
    "app = Redbox(env=env, debug = True)"
   ]
  },
  {
   "cell_type": "markdown",
   "metadata": {},
   "source": [
    "### Graph visualisation"
   ]
  },
  {
   "cell_type": "code",
   "execution_count": null,
   "metadata": {},
   "outputs": [],
   "source": [
    "app.graph"
   ]
  },
  {
   "cell_type": "markdown",
   "metadata": {},
   "source": [
    "### Running use cases\n"
   ]
  },
  {
   "cell_type": "markdown",
   "metadata": {},
   "source": [
    "After planning"
   ]
  },
  {
   "cell_type": "code",
   "execution_count": null,
   "metadata": {},
   "outputs": [],
   "source": [
    "plan = MultiAgentPlan(tasks=[AgentTask(id='task1', task=\"Analyze the user's documents to understand what recommendations are made in the AI Playbook for the UK Government\", agent=AgentEnum.Internal_Retrieval_Agent, expected_output='A comprehensive list of key recommendations made in the AI Playbook document', dependencies=[]), AgentTask(id='task2', task=\"Search for public opinion surveys, reports, or articles regarding the UK Government's AI Playbook recommendations\", agent=AgentEnum.Web_Search_Agent, expected_output=\"Recent data, surveys, or articles showing public sentiment towards the recommendations in the UK Government's AI Playbook\", dependencies=['task1']), AgentTask(id='task3', task='Check if any government websites have published public consultation results or feedback related to the AI Playbook', agent=AgentEnum.External_Retrieval_Agent, expected_output='Information from gov.uk about any public consultations, feedback, or opinion polls related to the AI Playbook recommendations', dependencies=['task1'])])\n",
    "\n",
    "question = \"\"\"Does the public agree with the recommendation in this document?\"\"\"\n",
    "\n",
    "document = ['test@dbt.gov.uk/AI_Playbook_for_the_UK_Government.pdf']\n",
    "x = get_state(user_uuid=uuid4(), prompts=[question], documents=document, ai_setting=AISettings(chat_backend=ChatLLMBackend(name=\"anthropic.claude-3-7-sonnet-20250219-v1:0\", provider=\"bedrock\")), permitted_s3_keys=document)\n",
    "x.user_feedback = \"proceed\"\n",
    "x.agent_plans = plan\n",
    "x.tasks_evaluator = \"\"\n",
    "\n",
    "res = run_app(app, x)"
   ]
  },
  {
   "cell_type": "markdown",
   "metadata": {},
   "source": [
    "#### Usecase "
   ]
  },
  {
   "cell_type": "code",
   "execution_count": null,
   "metadata": {},
   "outputs": [],
   "source": [
    "document = []\n",
    "question = 'tell me about recent news on Trump visit to UK from bbc news'\n",
    "res = run_use_case(document, question, app)\n"
   ]
  },
  {
   "cell_type": "code",
   "execution_count": null,
   "metadata": {},
   "outputs": [],
   "source": [
    "document = ['test@dbt.gov.uk/AI_Playbook_for_the_UK_Government.pdf']\n",
    "question = 'Sumarise this document and draft an email to my manager highlighting the key areas we need to focus when developing AI solution in the department'\n",
    "res = run_use_case(document, question, app)"
   ]
  }
 ],
 "metadata": {
  "kernelspec": {
   "display_name": "redbox-root-In7wI2Lt-py3.12",
   "language": "python",
   "name": "python3"
  },
  "language_info": {
   "codemirror_mode": {
    "name": "ipython",
    "version": 3
   },
   "file_extension": ".py",
   "mimetype": "text/x-python",
   "name": "python",
   "nbconvert_exporter": "python",
   "pygments_lexer": "ipython3",
   "version": "3.12.6"
  }
 },
 "nbformat": 4,
 "nbformat_minor": 2
}
