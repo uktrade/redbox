{
 "cells": [
  {
   "cell_type": "markdown",
   "id": "0",
   "metadata": {},
   "source": [
    "# Tabular Data Interrogation Investigation"
   ]
  },
  {
   "cell_type": "code",
   "execution_count": null,
   "id": "1",
   "metadata": {},
   "outputs": [],
   "source": [
    "%load_ext dotenv\n",
    "%dotenv ../.env"
   ]
  },
  {
   "cell_type": "code",
   "execution_count": null,
   "id": "2",
   "metadata": {},
   "outputs": [],
   "source": [
    "import pandas as pd\n",
    "import os\n",
    "from typing import Dict, List, Optional"
   ]
  },
  {
   "cell_type": "code",
   "execution_count": null,
   "id": "3",
   "metadata": {},
   "outputs": [],
   "source": [
    "# SINGLE FILE VARIABLES - Update the below as required\n",
    "file_path = \"../data/titanic.csv\"\n",
    "DOWNLOAD_URL = \"https://web.stanford.edu/class/archive/cs/cs109/cs109.1166/stuff/titanic.csv\"\n",
    "DB_LOC = \"titanic.db\"\n",
    "TABLE_NAME = \"titanic\""
   ]
  },
  {
   "cell_type": "code",
   "execution_count": null,
   "id": "4",
   "metadata": {},
   "outputs": [],
   "source": [
    "if not os.path.exists(file_path):\n",
    "    import subprocess\n",
    "    # If the file does not exist, it tries to download it from the URL via curl\n",
    "    try:\n",
    "        subprocess.run([\"curl\", \"-o\", file_path, DOWNLOAD_URL], check=True)\n",
    "        print(f\"Downloaded file {os.path.basename(file_path)} successfully\")\n",
    "    except Exception as e:\n",
    "        print(f\"Error downloading file {e}\")\n",
    "\n"
   ]
  },
  {
   "cell_type": "code",
   "execution_count": null,
   "id": "5",
   "metadata": {},
   "outputs": [],
   "source": [
    "def ingest_file(file_path: str):\n",
    "    try:\n",
    "        if file_path.endswith(\".csv\"):\n",
    "            return pd.read_csv(file_path)\n",
    "        elif file_path.endswith(\".xls\") or file_path.endswith(\".xlsx\"):\n",
    "            return pd.read_excel(file_path) #TODO Modify to handle multiple sheets\n",
    "        else:\n",
    "            raise TypeError(\"Only csvs and excel files are accepted\")\n",
    "    except Exception as e:\n",
    "        raise e\n",
    "\n",
    "df = ingest_file(file_path)"
   ]
  },
  {
   "cell_type": "code",
   "execution_count": null,
   "id": "6",
   "metadata": {},
   "outputs": [],
   "source": [
    "def ingest_files(file_path: str, sheet_names: Optional[List[str]|str]=None)->pd.DataFrame | Dict[str,pd.DataFrame]:\n",
    "    try:\n",
    "        if file_path.endswith(\".csv\"):\n",
    "            return pd.read_csv(file_path)\n",
    "        elif file_path.endswith(\".xls\") or file_path.endswith(\".xlsx\"):\n",
    "            if not sheet_names:\n",
    "                return pd.read_excel(file_path) #TODO Takes just the first sheet\n",
    "            elif sheet_names=='all':\n",
    "                return pd.read_excel(file_path, sheet_name=None)\n",
    "            else:\n",
    "                sheets = pd.ExcelFile(file_path).sheet_names\n",
    "                df_map={}\n",
    "                for sht in sheet_names:\n",
    "                    if sht in sheets:\n",
    "                        df_map[sht] = pd.read_excel(file_path, sheet_name=sht)\n",
    "                return df_map\n",
    "\n",
    "        else:\n",
    "            raise TypeError(\"Only csvs and excel files are accepted\")\n",
    "    except Exception as e:\n",
    "        raise e"
   ]
  },
  {
   "cell_type": "code",
   "execution_count": null,
   "id": "7",
   "metadata": {},
   "outputs": [],
   "source": [
    "from langchain_community.utilities import SQLDatabase\n",
    "from sqlalchemy import create_engine, inspect\n",
    "from sqlalchemy.engine.base import Engine\n",
    "\n",
    "engine = create_engine(f\"sqlite:///{DB_LOC}\")\n",
    "\n",
    "def create_db_tables(dfs: Dict[str, pd.DataFrame] , engine: Engine, replace: bool = False):\n",
    "    inspector = inspect(engine)\n",
    "    existing = inspector.get_table_names()\n",
    "    for table_name in dfs:\n",
    "        if replace:\n",
    "            dfs[table_name].to_sql(table_name.strip().replace(\" \",\"_\").lower(), engine, index=False, if_exists=\"replace\")\n",
    "        elif table_name.strip().replace(\" \",\"_\").lower() not in existing:\n",
    "            dfs[table_name].to_sql(table_name.strip().replace(\" \",\"_\").lower(), engine, index=False)\n"
   ]
  },
  {
   "cell_type": "code",
   "execution_count": null,
   "id": "8",
   "metadata": {},
   "outputs": [],
   "source": [
    "create_db_tables({TABLE_NAME: df}, engine=engine, replace=True)"
   ]
  },
  {
   "cell_type": "code",
   "execution_count": null,
   "id": "9",
   "metadata": {},
   "outputs": [],
   "source": [
    "db = SQLDatabase(engine=engine)\n",
    "print(db.dialect)\n",
    "print(db.get_usable_table_names())\n",
    "print(db.run(\"SELECT * FROM titanic WHERE Age > 25 AND Pclass=1;\"))"
   ]
  },
  {
   "cell_type": "code",
   "execution_count": null,
   "id": "10",
   "metadata": {},
   "outputs": [],
   "source": [
    "from redbox.models.settings import Settings\n",
    "from langchain.chat_models import init_chat_model\n",
    "\n",
    "env = Settings()\n",
    "model = llm=  init_chat_model(\n",
    "        model=\"anthropic.claude-3-sonnet-20240229-v1:0\",\n",
    "        model_provider=\"bedrock\"\n",
    "    )"
   ]
  },
  {
   "cell_type": "code",
   "execution_count": null,
   "id": "11",
   "metadata": {},
   "outputs": [],
   "source": [
    "from langchain_community.agent_toolkits import create_sql_agent\n",
    "from langchain.agents.agent_toolkits import SQLDatabaseToolkit\n",
    "\n",
    "toolkit = SQLDatabaseToolkit(db=db, llm=model)\n",
    "\n",
    "agent_executor = create_sql_agent(model, toolkit=toolkit, verbose=False, agent_executor_kwargs={\n",
    "                \"return_intermediate_steps\": True\n",
    "            })"
   ]
  },
  {
   "cell_type": "code",
   "execution_count": null,
   "id": "12",
   "metadata": {},
   "outputs": [],
   "source": [
    "# agent_executor.run( \"How many women survived?\")"
   ]
  },
  {
   "cell_type": "code",
   "execution_count": null,
   "id": "13",
   "metadata": {},
   "outputs": [],
   "source": [
    "# Example query\n",
    "agent_executor.invoke({\"input\", \"What proportion of survivors were in class 1?\"})"
   ]
  },
  {
   "cell_type": "code",
   "execution_count": null,
   "id": "14",
   "metadata": {},
   "outputs": [],
   "source": [
    "sample_query=\"How many of the non-survivors were in their thirtees and female?\"\n",
    "# response = agent_executor({\"input\", sample_query})[\"output\"]\n",
    "# print(response)"
   ]
  },
  {
   "cell_type": "code",
   "execution_count": null,
   "id": "15",
   "metadata": {},
   "outputs": [],
   "source": [
    "result = agent_executor({\"input\", sample_query})\n",
    "print(result)"
   ]
  },
  {
   "cell_type": "code",
   "execution_count": null,
   "id": "16",
   "metadata": {},
   "outputs": [],
   "source": [
    "type(result)"
   ]
  },
  {
   "cell_type": "markdown",
   "id": "17",
   "metadata": {},
   "source": [
    "### Testing with an `xls` File"
   ]
  },
  {
   "cell_type": "code",
   "execution_count": null,
   "id": "18",
   "metadata": {},
   "outputs": [],
   "source": [
    "file_path = \"../data/test_xls.xlsx\"\n",
    "DB_LOC = \"ons_data.db\""
   ]
  },
  {
   "cell_type": "code",
   "execution_count": null,
   "id": "19",
   "metadata": {},
   "outputs": [],
   "source": [
    "ons_dict=ingest_files(file_path, sheet_names='all')"
   ]
  },
  {
   "cell_type": "code",
   "execution_count": null,
   "id": "20",
   "metadata": {},
   "outputs": [],
   "source": [
    "\n",
    "for section in ons_dict:\n",
    "    print(section)\n",
    "    print(ons_dict[section].columns)\n",
    "    print(ons_dict[section].head())\n",
    "    break"
   ]
  },
  {
   "cell_type": "code",
   "execution_count": null,
   "id": "21",
   "metadata": {},
   "outputs": [],
   "source": [
    "engine = create_engine(f\"sqlite:///{DB_LOC}\")"
   ]
  },
  {
   "cell_type": "code",
   "execution_count": null,
   "id": "22",
   "metadata": {},
   "outputs": [],
   "source": [
    "create_db_tables(ons_dict, engine=engine)"
   ]
  },
  {
   "cell_type": "code",
   "execution_count": null,
   "id": "23",
   "metadata": {},
   "outputs": [],
   "source": [
    "db = SQLDatabase(engine=engine)\n",
    "toolkit = SQLDatabaseToolkit(db=db, llm=model)\n",
    "\n",
    "agent_executor = create_sql_agent(model, toolkit=toolkit, verbose=True, agent_executor_kwargs={\n",
    "                \"return_intermediate_steps\": True\n",
    "            })"
   ]
  },
  {
   "cell_type": "code",
   "execution_count": null,
   "id": "24",
   "metadata": {},
   "outputs": [],
   "source": [
    "sample_query=\"Which sections have the highest and lowest overall total turnovers respectively?\"\n",
    "response = agent_executor({\"input\", sample_query})[\"output\"]\n",
    "print(response)"
   ]
  }
 ],
 "metadata": {
  "kernelspec": {
   "display_name": ".venv",
   "language": "python",
   "name": "python3"
  },
  "language_info": {
   "codemirror_mode": {
    "name": "ipython",
    "version": 3
   },
   "file_extension": ".py",
   "mimetype": "text/x-python",
   "name": "python",
   "nbconvert_exporter": "python",
   "pygments_lexer": "ipython3",
   "version": "3.12.9"
  }
 },
 "nbformat": 4,
 "nbformat_minor": 5
}
