{
 "cells": [
  {
   "cell_type": "code",
   "execution_count": null,
   "id": "0",
   "metadata": {},
   "outputs": [],
   "source": [
    "%load_ext dotenv\n",
    "%dotenv ../redbox/.env.test"
   ]
  },
  {
   "cell_type": "code",
   "execution_count": null,
   "id": "1",
   "metadata": {},
   "outputs": [],
   "source": [
    "from langgraph.prebuilt import create_react_agent\n",
    "from redbox.models.chain import ChatLLMBackend, RedboxQuery, RedboxState\n",
    "from redbox.loader.loaders import get_chat_llm\n",
    "from langchain_mcp_adapters.client import MultiServerMCPClient\n",
    "from langgraph.prebuilt import create_react_agent\n",
    "from redbox.models.settings import Settings\n",
    "\n",
    "def get_state(user_uuid, prompts, documents, ai_setting, permitted_s3_keys):\n",
    "    q = RedboxQuery(\n",
    "        question=prompts,\n",
    "        s3_keys=documents,\n",
    "        user_uuid=user_uuid,\n",
    "        chat_history=[],\n",
    "        ai_settings=ai_setting,\n",
    "        permitted_s3_keys=permitted_s3_keys,\n",
    "    )\n",
    "\n",
    "    return RedboxState(\n",
    "        request=q,\n",
    "    )\n",
    "env = Settings()\n",
    "model = get_chat_llm(ChatLLMBackend(name=\"anthropic.claude-3-sonnet-20240229-v1:0\", provider=\"bedrock\"))"
   ]
  },
  {
   "cell_type": "markdown",
   "id": "2",
   "metadata": {},
   "source": [
    "Using Caddy MCP as a tool in react agent"
   ]
  },
  {
   "cell_type": "code",
   "execution_count": null,
   "id": "3",
   "metadata": {},
   "outputs": [],
   "source": [
    "async with MultiServerMCPClient(\n",
    "    {\n",
    "        \"caddy\": {\n",
    "            \"url\": env.mcp_caddy_url,\n",
    "            \"transport\": \"sse\",\n",
    "            \"headers\": {env.mcp_headers: env.mcp_caddy_token}\n",
    "        }\n",
    "    }\n",
    ") as client:\n",
    "    agent = create_react_agent(model, client.get_tools())\n",
    "    result = await agent.ainvoke({\"messages\": \"Search for grants relating to badgers.\"})"
   ]
  },
  {
   "cell_type": "markdown",
   "id": "4",
   "metadata": {},
   "source": [
    "Using Parlex MCP as a tool in react agent"
   ]
  },
  {
   "cell_type": "code",
   "execution_count": null,
   "id": "5",
   "metadata": {},
   "outputs": [],
   "source": [
    "async with MultiServerMCPClient(\n",
    "    {\n",
    "        \"parlex\": {\n",
    "            \"url\": env.mcp_parlex_url,\n",
    "            \"transport\": \"sse\",\n",
    "            \"headers\": {env.mcp_headers: env.mcp_parlex_token}\n",
    "        }\n",
    "    }\n",
    ") as client:\n",
    "    agent = create_react_agent(model, client.get_tools())\n",
    "    result = await agent.ainvoke({\"messages\": \"Search for Keir Starmer\"})"
   ]
  }
 ],
 "metadata": {
  "kernelspec": {
   "display_name": "redbox-root-In7wI2Lt-py3.12",
   "language": "python",
   "name": "python3"
  },
  "language_info": {
   "codemirror_mode": {
    "name": "ipython",
    "version": 3
   },
   "file_extension": ".py",
   "mimetype": "text/x-python",
   "name": "python",
   "nbconvert_exporter": "python",
   "pygments_lexer": "ipython3",
   "version": "3.12.6"
  }
 },
 "nbformat": 4,
 "nbformat_minor": 5
}
