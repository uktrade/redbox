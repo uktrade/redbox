{
 "cells": [
  {
   "cell_type": "markdown",
   "metadata": {},
   "source": [
    "# Token Generation\n",
    "\n",
    "In FastAPI you need to authorise your requests using tokens. We use JWT to encode the user_uuid calling on the service.\n",
    "\n",
    "You can modify the below to generate a token for a random user_uuid or a specific user_uuid."
   ]
  },
  {
   "cell_type": "code",
   "execution_count": null,
   "metadata": {},
   "outputs": [],
   "source": [
    "from jose import jwt\n",
    "\n",
    "# my_uuid = str(uuid4())\n",
    "my_uuid = \"aaaaaaaa-aaaa-aaaa-aaaa-aaaaaaaaaaaa\"\n",
    "\n",
    "token = jwt.encode({\"user_uuid\": my_uuid}, key=\"\")\n",
    "\n",
    "print(token)"
   ]
  },
  {
   "cell_type": "markdown",
   "metadata": {},
   "source": [
    "Here is a screenshot of the authorisation button in FastAPI's Swagger UI:\n",
    "\n",
    "![docs/assets/token_gen_screenshot.png](../docs/assets/token_gen_screenshot.png)\n",
    "\n",
    "You'll need to copy and paste the token printed above into that field to authorise your requests."
   ]
  }
 ],
 "metadata": {
  "kernelspec": {
   "display_name": ".venv",
   "language": "python",
   "name": "python3"
  },
  "language_info": {
   "codemirror_mode": {
    "name": "ipython",
    "version": 3
   },
   "file_extension": ".py",
   "mimetype": "text/x-python",
   "name": "python",
   "nbconvert_exporter": "python",
   "pygments_lexer": "ipython3",
   "version": "3.11.9"
  }
 },
 "nbformat": 4,
 "nbformat_minor": 2
}
